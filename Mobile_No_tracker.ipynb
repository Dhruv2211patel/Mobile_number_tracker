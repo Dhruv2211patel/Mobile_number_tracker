{
 "cells": [
  {
   "cell_type": "code",
   "execution_count": null,
   "metadata": {},
   "outputs": [],
   "source": [
    "pip install phonenumbers"
   ]
  },
  {
   "cell_type": "code",
   "execution_count": null,
   "metadata": {},
   "outputs": [],
   "source": [
    "import phonenumbers\n",
    "from phonenumbers import carrier,geocoder, timezone"
   ]
  },
  {
   "cell_type": "code",
   "execution_count": null,
   "metadata": {},
   "outputs": [],
   "source": [
    "mobileNo= input(\"Mobile no. with country code:\")\n",
    "mobileNo=phonenumbers.parse(mobileNo)\n",
    "print(timezone.time_zones_for_number(mobileNo))\n",
    "print(carrier.name_for_number(mobileNo,\"en\"))\n",
    "print(geocoder.description_for_number(mobileNo,\"en\"))\n",
    "print(\"Valid Mobile Number:\",phonenumbers.is_valid_number(mobileNo))\n",
    "print(\"Checking possibility of Number:\",phonenumbers.is_possible_number(mobileNo))"
   ]
  },
  {
   "cell_type": "code",
   "execution_count": null,
   "metadata": {},
   "outputs": [],
   "source": []
  },
  {
   "cell_type": "code",
   "execution_count": null,
   "metadata": {},
   "outputs": [],
   "source": []
  }
 ],
 "metadata": {
  "kernelspec": {
   "display_name": "Python 3",
   "language": "python",
   "name": "python3"
  },
  "language_info": {
   "codemirror_mode": {
    "name": "ipython",
    "version": 3
   },
   "file_extension": ".py",
   "mimetype": "text/x-python",
   "name": "python",
   "nbconvert_exporter": "python",
   "pygments_lexer": "ipython3",
   "version": "3.8.3"
  }
 },
 "nbformat": 4,
 "nbformat_minor": 4
}
